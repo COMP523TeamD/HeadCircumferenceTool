{
 "cells": [
  {
   "attachments": {},
   "cell_type": "markdown",
   "metadata": {},
   "source": [
    "### processing.py's code in a notebook for interactivity. Also attempts some contour length calculations. Doesn't yet convert to physical units though."
   ]
  },
  {
   "attachments": {},
   "cell_type": "markdown",
   "metadata": {},
   "source": [
    "# Setup"
   ]
  },
  {
   "cell_type": "code",
   "execution_count": 98,
   "metadata": {},
   "outputs": [
    {
     "name": "stdout",
     "output_type": "stream",
     "text": [
      "Dimensions: 244, 292, 198\n"
     ]
    }
   ],
   "source": [
    "import SimpleITK as sitk\n",
    "import numpy as np\n",
    "import matplotlib.pyplot as plt\n",
    "%matplotlib inline\n",
    "from ipywidgets import interact, fixed\n",
    "import cv2\n",
    "\n",
    "OUTPUT_DIR = '../../out'\n",
    "NRRD1_PATH = '../../ExampleData/BCP_Dataset_2month_T1w.nrrd'\n",
    "NRRD2_PATH = '../../ExampleData/IBIS_Dataset_12month_T1w.nrrd'\n",
    "NRRD3_PATH = '../../ExampleData/IBIS_Dataset_NotAligned_6month_T1w.nrrd'\n",
    "\"\"\"This is an intentionally misaligned image.\"\"\"\n",
    "NIFTI_PATH = '../../ExampleData/MicroBiome_1month_T1w.nii.gz'\n",
    "\n",
    "reader = sitk.ImageFileReader()\n",
    "reader.SetFileName(NIFTI_PATH)\n",
    "image = reader.Execute()\n",
    "print(f'Dimensions: {image.GetSize()[0]}, {image.GetSize()[1]}, {image.GetSize()[2]}')"
   ]
  },
  {
   "attachments": {},
   "cell_type": "markdown",
   "metadata": {},
   "source": [
    "# Helper functions"
   ]
  },
  {
   "cell_type": "code",
   "execution_count": 99,
   "metadata": {},
   "outputs": [],
   "source": [
    "def resample_display(img, theta_x, theta_y, theta_z, slice_z):\n",
    "    \"\"\"\n",
    "    Apply Otsu, hole filling, and 3D image, used for interactivity with ipywidget's interact().\n",
    "    \n",
    "    Parameters\n",
    "    ----------\n",
    "    img\n",
    "        Result of sitk.ImageFileReader().Execute() on a NRRD or NIfTI\n",
    "    theta_x, theta_y, theta_z\n",
    "        In degrees\n",
    "    slice_z\n",
    "        The number of the slice\"\"\"\n",
    "\n",
    "    euler_3d_transform = sitk.Euler3DTransform()\n",
    "    euler_3d_transform.SetCenter(img.TransformContinuousIndexToPhysicalPoint([((dimension - 1) / 2.0) for dimension in img.GetSize()]))\n",
    "    euler_3d_transform.SetRotation(degrees_to_radians(theta_x), degrees_to_radians(theta_y), degrees_to_radians(theta_z))\n",
    "    rotated_image = sitk.Resample(img, euler_3d_transform)\n",
    "    rotated_image_slice = rotated_image[:,:,slice_z]\n",
    "\n",
    "    otsu = sitk.OtsuThresholdImageFilter().Execute(rotated_image_slice)\n",
    "\n",
    "    hole_filling = sitk.BinaryGrindPeakImageFilter().Execute(otsu)\n",
    "\n",
    "    # BinaryGrindPeakImageFilter has inverted foreground/background 0 and 1\n",
    "    inverted = sitk.NotImageFilter().Execute(hole_filling)\n",
    "\n",
    "    largest_component = select_largest_component(inverted)\n",
    "\n",
    "    contour = sitk.BinaryContourImageFilter().Execute(largest_component)\n",
    "\n",
    "    plt.imshow(sitk.GetArrayFromImage(contour))\n",
    "    plt.axis(\"off\")\n",
    "    plt.show()\n",
    "\n",
    "    return contour\n",
    "\n",
    "\n",
    "def degrees_to_radians(num: float):\n",
    "    return num * np.pi / 180\n",
    "\n",
    "\n",
    "def select_largest_component(binary_slice):\n",
    "    component_image = sitk.ConnectedComponent(binary_slice)\n",
    "    sorted_component_image = sitk.RelabelComponent(component_image, sortByObjectSize=True)\n",
    "    largest_component_binary_image = sorted_component_image == 1\n",
    "    return largest_component_binary_image\n",
    "\n",
    "\n",
    "def write_sitk_slice(slice: sitk.Image, filename):\n",
    "    \"\"\"Write a 2D slice to the file `filename`, for testing purposes.\"\"\"\n",
    "    with open(filename, 'w') as f:\n",
    "        for x in range(slice.GetSize()[0]):\n",
    "            for y in range(slice.GetSize()[1]):\n",
    "                f.write(f'{slice.GetPixel(x, y)}')\n",
    "            f.write('\\n')\n",
    "        \n",
    "\n",
    "def write_numpy_matrix(matrix: np.ndarray, filename):\n",
    "    \"\"\"Write numpy matrix representation of sitk.Image resulting from sitk.GetArrayFromImage to a text file.\n",
    "    \n",
    "    numpy has flipped (transposed) x and y. Must write matrix[j][i] to get the same result as `write_slice`.\n",
    "    \n",
    "    Warning, sitk.GetArrayFromImage returns a transposed representation of the sitk.Image.\"\"\"\n",
    "    with open(filename, 'w') as f:\n",
    "        for i in range(len(matrix[0])):\n",
    "            for j in range(len(matrix)):\n",
    "                f.write(str(matrix[j][i]))\n",
    "            f.write('\\n')\n",
    "\n",
    "\n",
    "def show_fiji(image: sitk.Image) -> None:\n",
    "    sitk.Show(sitk.Cast(image,sitk.sitkFloat32) + 255)\n"
   ]
  },
  {
   "attachments": {},
   "cell_type": "markdown",
   "metadata": {},
   "source": [
    "# Interactive display"
   ]
  },
  {
   "cell_type": "code",
   "execution_count": 100,
   "metadata": {},
   "outputs": [
    {
     "data": {
      "application/vnd.jupyter.widget-view+json": {
       "model_id": "8c4aa9b3fc434d7ab8addc29db335dde",
       "version_major": 2,
       "version_minor": 0
      },
      "text/plain": [
       "interactive(children=(IntSlider(value=0, description='theta_x', max=180, min=-180), IntSlider(value=0, descrip…"
      ]
     },
     "metadata": {},
     "output_type": "display_data"
    },
    {
     "data": {
      "text/plain": [
       "<function __main__.resample_display(img, theta_x, theta_y, theta_z, slice_z)>"
      ]
     },
     "execution_count": 100,
     "metadata": {},
     "output_type": "execute_result"
    }
   ],
   "source": [
    "interact(\n",
    "    resample_display,\n",
    "    img=fixed(image),\n",
    "    theta_x=(-180, 180),\n",
    "    theta_y=(-180, 180),\n",
    "    theta_z=(-180, 180),\n",
    "    slice_z=(0, image.GetSize()[2] - 1)\n",
    ")"
   ]
  },
  {
   "attachments": {},
   "cell_type": "markdown",
   "metadata": {},
   "source": [
    "# Open a slice in Fiji for testing purposes"
   ]
  },
  {
   "cell_type": "code",
   "execution_count": 101,
   "metadata": {},
   "outputs": [
    {
     "data": {
      "image/png": "[encoded data removed]",
      "text/plain": [
       "<Figure size 432x288 with 1 Axes>"
      ]
     },
     "metadata": {
      "needs_background": "light"
     },
     "output_type": "display_data"
    }
   ],
   "source": [
    "# slice 187 gets a wrong result\n",
    "contour_slice = resample_display(image, 0, 0, 0, 0)\n",
    "# show_fiji(contour)"
   ]
  },
  {
   "attachments": {},
   "cell_type": "markdown",
   "metadata": {},
   "source": [
    "# Get contour length"
   ]
  },
  {
   "cell_type": "code",
   "execution_count": 102,
   "metadata": {},
   "outputs": [
    {
     "name": "stdout",
     "output_type": "stream",
     "text": [
      "I think circumference_1 is the outer contour and circumference 2 is the inner contour but this might be different for different images.\n",
      "Check on the NIFTI image with rotation = (0, 0, 0) and slice_z = 150.\n",
      "Circumference 1: 594.7838318347931\n",
      "Circumference 2: 539.2274831533432\n"
     ]
    }
   ],
   "source": [
    "from PIL import Image\n",
    "write_sitk_slice(contour_slice, 'contour_sitk.txt')\n",
    "\n",
    "# Binary matrix with 0's and 1's\n",
    "temp: np.ndarray = sitk.GetArrayFromImage(contour_slice)\n",
    "\n",
    "# For testing\n",
    "write_numpy_matrix(temp, 'contour_numpy.txt')\n",
    "\n",
    "# This returns the same result for binary arrays with 0's and 1's and binary arrays with 0's and 255's, see test_imgproc.py\n",
    "# contours is a list of contours since there could be multiple contours. That is, contours[0] might be the outer contour and contours[1] might be the inner contour.\n",
    "contours, hierarchy = cv2.findContours(temp, cv2.RETR_TREE, cv2.CHAIN_APPROX_SIMPLE)\n",
    "contour = contours[0]\n",
    "circumference_1 = cv2.arcLength(contour, True)\n",
    "\n",
    "contour = contours[1]\n",
    "circumference_2 = cv2.arcLength(contour, True)\n",
    "\n",
    "# contour = contours[2]\n",
    "# circumference_3 = cv2.arcLength(contour, True)\n",
    "\n",
    "print(f'I think circumference_1 is the outer contour and circumference 2 is the inner contour but this might be different for different images.\\nCheck on the NIFTI image with rotation = (0, 0, 0) and slice_z = 150.')\n",
    "print(f'Circumference 1: {circumference_1}')\n",
    "print(f'Circumference 2: {circumference_2}')\n",
    "# print(f'Circumference 3: {circumference_3}')"
   ]
  }
 ],
 "metadata": {
  "kernelspec": {
   "display_name": "Python 3",
   "language": "python",
   "name": "python3"
  },
  "language_info": {
   "codemirror_mode": {
    "name": "ipython",
    "version": 3
   },
   "file_extension": ".py",
   "mimetype": "text/x-python",
   "name": "python",
   "nbconvert_exporter": "python",
   "pygments_lexer": "ipython3",
   "version": "3.10.2"
  },
  "orig_nbformat": 4
 },
 "nbformat": 4,
 "nbformat_minor": 2
}
