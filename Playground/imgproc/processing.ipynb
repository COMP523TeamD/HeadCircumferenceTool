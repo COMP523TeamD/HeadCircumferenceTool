{
 "cells": [
  {
   "attachments": {},
   "cell_type": "markdown",
   "metadata": {},
   "source": [
    "### Uses processing.py's code in a notebook for interactivity. Also attempts some contour length calculations. Doesn't yet convert to physical units.\n",
    "\n",
    "This code generates a lot of `.txt` and `.png` files in the imgproc/ directory. They're gitignored so don't show up in GitHub, but you can view them locally."
   ]
  },
  {
   "attachments": {},
   "cell_type": "markdown",
   "metadata": {},
   "source": [
    "# Setup"
   ]
  },
  {
   "cell_type": "code",
   "execution_count": 10,
   "metadata": {},
   "outputs": [
    {
     "name": "stdout",
     "output_type": "stream",
     "text": [
      "Dimensions: 244, 292, 198\n"
     ]
    }
   ],
   "source": [
    "import SimpleITK as sitk\n",
    "import numpy as np\n",
    "import matplotlib.pyplot as plt\n",
    "%matplotlib inline\n",
    "from ipywidgets import interact, fixed\n",
    "import cv2\n",
    "\n",
    "from imgproc_helpers import *\n",
    "\n",
    "OUTPUT_DIR = '../../out'\n",
    "NRRD1_PATH = '../../ExampleData/BCP_Dataset_2month_T1w.nrrd'\n",
    "NRRD2_PATH = '../../ExampleData/IBIS_Dataset_12month_T1w.nrrd'\n",
    "NRRD3_PATH = '../../ExampleData/IBIS_Dataset_NotAligned_6month_T1w.nrrd'\n",
    "\"\"\"This is an intentionally misaligned image.\"\"\"\n",
    "NIFTI_PATH = '../../ExampleData/MicroBiome_1month_T1w.nii.gz'\n",
    "\n",
    "reader = sitk.ImageFileReader()\n",
    "reader.SetFileName(NIFTI_PATH)\n",
    "image = reader.Execute()\n",
    "print(f'Dimensions: {image.GetSize()[0]}, {image.GetSize()[1]}, {image.GetSize()[2]}')"
   ]
  },
  {
   "attachments": {},
   "cell_type": "markdown",
   "metadata": {},
   "source": [
    "# Interactive version of `rotate_and_get_contour`\n",
    "\n",
    "`rotate_and_get_contour` is already defined in `imgproc_helpers.py` but is redefined here to include `plt.show()` to display with `ipywidgets`. I also comment out the smooth slice since it causes errors to appear in the output\n",
    "\n",
    "To be clear, this is not \"production-quality\" code. It's just for interactivity for testing purposes."
   ]
  },
  {
   "cell_type": "code",
   "execution_count": 11,
   "metadata": {},
   "outputs": [],
   "source": [
    "def rotate_and_get_contour_testing(img: sitk.Image, theta_x: int, theta_y: int, theta_z: int, slice_z: int) -> sitk.Image:\n",
    "    \"\"\"Same as the function of the same name in imgproc_helpers.py but needs to be redefined here to include `plt.show()`.\"\"\"\n",
    "\n",
    "    euler_3d_transform = sitk.Euler3DTransform()\n",
    "    # NOTE: This center is possibly incorrect.\n",
    "    euler_3d_transform.SetCenter(img.TransformContinuousIndexToPhysicalPoint([((dimension - 1) / 2.0) for dimension in img.GetSize()]))\n",
    "    euler_3d_transform.SetRotation(degrees_to_radians(theta_x), degrees_to_radians(theta_y), degrees_to_radians(theta_z))\n",
    "    rotated_image = sitk.Resample(img, euler_3d_transform)\n",
    "    rotated_image_slice = rotated_image[:,:,slice_z]\n",
    "\n",
    "    # The cast is necessary, otherwise get sitk::ERROR: Pixel type: 16-bit signed integer is not supported in 2D\n",
    "    # However, this does throw some weird errors\n",
    "    # smooth_slice = sitk.GradientAnisotropicDiffusionImageFilter().Execute(sitk.Cast(rotated_image_slice, sitk.sitkFloat64))\n",
    "\n",
    "    otsu = sitk.OtsuThresholdImageFilter().Execute(rotated_image_slice)\n",
    "\n",
    "    hole_filling = sitk.BinaryGrindPeakImageFilter().Execute(otsu)\n",
    "\n",
    "    # BinaryGrindPeakImageFilter has inverted foreground/background 0 and 1, need to invert\n",
    "    inverted = sitk.NotImageFilter().Execute(hole_filling)\n",
    "\n",
    "    largest_component = select_largest_component(inverted)\n",
    "\n",
    "    contour = sitk.BinaryContourImageFilter().Execute(largest_component)\n",
    "\n",
    "    plt.imshow(sitk.GetArrayFromImage(contour))\n",
    "    plt.axis(\"off\")\n",
    "    plt.show()\n",
    "\n",
    "    return contour"
   ]
  },
  {
   "attachments": {},
   "cell_type": "markdown",
   "metadata": {},
   "source": [
    "# Interactive display"
   ]
  },
  {
   "cell_type": "code",
   "execution_count": 12,
   "metadata": {},
   "outputs": [
    {
     "data": {
      "application/vnd.jupyter.widget-view+json": {
       "model_id": "eb6e8103444344238d2a2ff4dcac15a7",
       "version_major": 2,
       "version_minor": 0
      },
      "text/plain": [
       "interactive(children=(IntSlider(value=0, description='theta_x', max=180, min=-180), IntSlider(value=0, descrip…"
      ]
     },
     "metadata": {},
     "output_type": "display_data"
    },
    {
     "data": {
      "text/plain": [
       "<function __main__.rotate_and_get_contour_testing(img: SimpleITK.SimpleITK.Image, theta_x: int, theta_y: int, theta_z: int, slice_z: int) -> SimpleITK.SimpleITK.Image>"
      ]
     },
     "execution_count": 12,
     "metadata": {},
     "output_type": "execute_result"
    }
   ],
   "source": [
    "interact(\n",
    "    rotate_and_get_contour_testing,\n",
    "    img=fixed(image),\n",
    "    theta_x=(-180, 180),\n",
    "    theta_y=(-180, 180),\n",
    "    theta_z=(-180, 180),\n",
    "    slice_z=(0, image.GetSize()[2] - 1)\n",
    ")"
   ]
  },
  {
   "attachments": {},
   "cell_type": "markdown",
   "metadata": {},
   "source": [
    "## Save `sitk` and `np` representations to text files for testing pixel spacing. Also save `sitk` and `np` array representations to PNG files.\n",
    "\n",
    "# Super weird: How does the `numpy` array look stretched (lost pixel spacing info), whereas the PNG generated from the same array looks fine???"
   ]
  },
  {
   "cell_type": "code",
   "execution_count": 13,
   "metadata": {},
   "outputs": [
    {
     "name": "stderr",
     "output_type": "stream",
     "text": [
      "WARNING: In /tmp/SimpleITK-build/ITK-prefix/include/ITK-5.3/itkAnisotropicDiffusionImageFilter.hxx, line 76\n",
      "GradientAnisotropicDiffusionImageFilter (0x104afbe60): Anisotropic diffusion unstable time step: 0.125\n",
      "Stable time step for this image must be smaller than 0.0997431\n",
      "\n",
      "WARNING: In /tmp/SimpleITK-build/ITK-prefix/include/ITK-5.3/itkAnisotropicDiffusionImageFilter.hxx, line 76\n",
      "GradientAnisotropicDiffusionImageFilter (0x104afbe60): Anisotropic diffusion unstable time step: 0.125\n",
      "Stable time step for this image must be smaller than 0.0997431\n",
      "\n",
      "WARNING: In /tmp/SimpleITK-build/ITK-prefix/include/ITK-5.3/itkAnisotropicDiffusionImageFilter.hxx, line 76\n",
      "GradientAnisotropicDiffusionImageFilter (0x104afbe60): Anisotropic diffusion unstable time step: 0.125\n",
      "Stable time step for this image must be smaller than 0.0997431\n",
      "\n",
      "WARNING: In /tmp/SimpleITK-build/ITK-prefix/include/ITK-5.3/itkAnisotropicDiffusionImageFilter.hxx, line 76\n",
      "GradientAnisotropicDiffusionImageFilter (0x104afbe60): Anisotropic diffusion unstable time step: 0.125\n",
      "Stable time step for this image must be smaller than 0.0997431\n",
      "\n",
      "WARNING: In /tmp/SimpleITK-build/ITK-prefix/include/ITK-5.3/itkAnisotropicDiffusionImageFilter.hxx, line 76\n",
      "GradientAnisotropicDiffusionImageFilter (0x104afbe60): Anisotropic diffusion unstable time step: 0.125\n",
      "Stable time step for this image must be smaller than 0.0997431\n",
      "\n"
     ]
    }
   ],
   "source": [
    "from PIL import Image\n",
    "# This is the real rotate_and_get_contour function\n",
    "sitk_contour_slice = rotate_and_get_contour(image, 0, 0, 0, 75)\n",
    "# show_fiji(contour)\n",
    "\n",
    "write_sitk_slice(sitk_contour_slice, 'contour_sitk.txt')\n",
    "\n",
    "# Numpy binary 2D array. It's the transpose of contour_slice\n",
    "np_contour_slice: np.ndarray = sitk.GetArrayFromImage(sitk_contour_slice)\n",
    "\n",
    "write_numpy_array_slice_transpose(np_contour_slice, 'contour_numpy.txt')\n",
    "\n",
    "# Convert binary (0|1) array to binary (0|255) array to display as white in images\n",
    "np_contour_slice_255: np.ndarray = binary_array_to_255_array(np_contour_slice)\n",
    "\n",
    "PNG = Image.fromarray(np_contour_slice_255)\n",
    "\n",
    "PNG.save(\"numpy_array_255.png\")\n"
   ]
  },
  {
   "attachments": {},
   "cell_type": "markdown",
   "metadata": {},
   "source": [
    "# Get arc length.\n",
    "\n",
    "`cv2.findContours` must be called on a `numpy` array. `cv2.findContours` returns the same result regardless of whether the array is binary (0|1) or binary (0|255).\n",
    "\n",
    "See notes on our [Wiki](https://github.com/COMP523TeamD/HeadCircumferenceTool/wiki/Dependencies)."
   ]
  },
  {
   "cell_type": "code",
   "execution_count": 23,
   "metadata": {},
   "outputs": [
    {
     "name": "stdout",
     "output_type": "stream",
     "text": [
      "[121  77]\n",
      "I think circumference_1 is the outer contour and circumference 2 is the inner contour but unsure.\n",
      "Check on the NIFTI image with rotation = (0, 0, 0) and slice_z = 150, which has at least 3 contour, which has at least 3 contours.\n",
      "\n",
      "Arc length of contour 1: 484.717817902565\n",
      "Arc length of contour 2: 484.13203144073486\n"
     ]
    }
   ],
   "source": [
    "# This returns the same result for binary arrays with 0's and 1's and binary arrays with 0's and 255's, see test_imgproc.py\n",
    "# contours is a list of contours since there could be multiple contours. That is, contours[0] might be the outer contour and contours[1] might be the inner contour.\n",
    "# There could be another contour contours[2] (or higher), depending on the image.\n",
    "contours, hierarchy = cv2.findContours(np_contour_slice, cv2.RETR_TREE, cv2.CHAIN_APPROX_SIMPLE)\n",
    "contour = contours[0]\n",
    "circumference_1 = cv2.arcLength(contour, True)\n",
    "\n",
    "contour = contours[1]\n",
    "circumference_2 = cv2.arcLength(contour, True)\n",
    "\n",
    "# contour = contours[2]\n",
    "# circumference_3 = cv2.arcLength(contour, True)\n",
    "\n",
    "print(f'I think circumference_1 is the outer contour and circumference 2 is the inner contour but unsure.\\nCheck on the NIFTI image with rotation = (0, 0, 0) and slice_z = 150, which has at least 3 contour, which has at least 3 contours.\\n')\n",
    "print(f'Arc length of contour 1: {circumference_1}')\n",
    "print(f'Arc length of contour 2: {circumference_2}')\n",
    "# print(f'Circumference 3: {circumference_3}')"
   ]
  },
  {
   "cell_type": "code",
   "execution_count": null,
   "metadata": {},
   "outputs": [],
   "source": []
  }
 ],
 "metadata": {
  "kernelspec": {
   "display_name": "Python 3",
   "language": "python",
   "name": "python3"
  },
  "language_info": {
   "codemirror_mode": {
    "name": "ipython",
    "version": 3
   },
   "file_extension": ".py",
   "mimetype": "text/x-python",
   "name": "python",
   "nbconvert_exporter": "python",
   "pygments_lexer": "ipython3",
   "version": "3.10.2"
  },
  "orig_nbformat": 4
 },
 "nbformat": 4,
 "nbformat_minor": 2
}
